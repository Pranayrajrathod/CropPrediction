{
 "cells": [
  {
   "cell_type": "code",
   "execution_count": 2,
   "id": "80484917-7212-4787-970c-b4fdaf100d69",
   "metadata": {},
   "outputs": [],
   "source": [
    "import pandas as pd\n",
    "from sklearn.model_selection import train_test_split\n",
    "from sklearn.ensemble import RandomForestClassifier"
   ]
  },
  {
   "cell_type": "code",
   "execution_count": 18,
   "id": "bfc26134-d74c-41ab-8773-33e969eec2ec",
   "metadata": {},
   "outputs": [],
   "source": [
    "cropData=pd.read_csv(\"Crop_recommendation.csv\")"
   ]
  },
  {
   "cell_type": "code",
   "execution_count": 24,
   "id": "843a0ab5-2280-44f5-850d-09ff624d32f3",
   "metadata": {},
   "outputs": [
    {
     "data": {
      "text/plain": [
       "N              0\n",
       "P              0\n",
       "K              0\n",
       "temperature    0\n",
       "humidity       0\n",
       "ph             0\n",
       "rainfall       0\n",
       "label          0\n",
       "dtype: int64"
      ]
     },
     "execution_count": 24,
     "metadata": {},
     "output_type": "execute_result"
    }
   ],
   "source": [
    "cropData.isnull().sum()"
   ]
  },
  {
   "cell_type": "code",
   "execution_count": 26,
   "id": "b6aba3dc-2b63-4a92-b16d-57cad783cc32",
   "metadata": {},
   "outputs": [
    {
     "data": {
      "text/html": [
       "<div>\n",
       "<style scoped>\n",
       "    .dataframe tbody tr th:only-of-type {\n",
       "        vertical-align: middle;\n",
       "    }\n",
       "\n",
       "    .dataframe tbody tr th {\n",
       "        vertical-align: top;\n",
       "    }\n",
       "\n",
       "    .dataframe thead th {\n",
       "        text-align: right;\n",
       "    }\n",
       "</style>\n",
       "<table border=\"1\" class=\"dataframe\">\n",
       "  <thead>\n",
       "    <tr style=\"text-align: right;\">\n",
       "      <th></th>\n",
       "      <th>N</th>\n",
       "      <th>P</th>\n",
       "      <th>K</th>\n",
       "      <th>temperature</th>\n",
       "      <th>humidity</th>\n",
       "      <th>ph</th>\n",
       "      <th>rainfall</th>\n",
       "      <th>label</th>\n",
       "    </tr>\n",
       "  </thead>\n",
       "  <tbody>\n",
       "    <tr>\n",
       "      <th>0</th>\n",
       "      <td>90</td>\n",
       "      <td>42</td>\n",
       "      <td>43</td>\n",
       "      <td>20.879744</td>\n",
       "      <td>82.002744</td>\n",
       "      <td>6.502985</td>\n",
       "      <td>202.935536</td>\n",
       "      <td>rice</td>\n",
       "    </tr>\n",
       "    <tr>\n",
       "      <th>1</th>\n",
       "      <td>85</td>\n",
       "      <td>58</td>\n",
       "      <td>41</td>\n",
       "      <td>21.770462</td>\n",
       "      <td>80.319644</td>\n",
       "      <td>7.038096</td>\n",
       "      <td>226.655537</td>\n",
       "      <td>rice</td>\n",
       "    </tr>\n",
       "    <tr>\n",
       "      <th>2</th>\n",
       "      <td>60</td>\n",
       "      <td>55</td>\n",
       "      <td>44</td>\n",
       "      <td>23.004459</td>\n",
       "      <td>82.320763</td>\n",
       "      <td>7.840207</td>\n",
       "      <td>263.964248</td>\n",
       "      <td>rice</td>\n",
       "    </tr>\n",
       "    <tr>\n",
       "      <th>3</th>\n",
       "      <td>74</td>\n",
       "      <td>35</td>\n",
       "      <td>40</td>\n",
       "      <td>26.491096</td>\n",
       "      <td>80.158363</td>\n",
       "      <td>6.980401</td>\n",
       "      <td>242.864034</td>\n",
       "      <td>rice</td>\n",
       "    </tr>\n",
       "    <tr>\n",
       "      <th>4</th>\n",
       "      <td>78</td>\n",
       "      <td>42</td>\n",
       "      <td>42</td>\n",
       "      <td>20.130175</td>\n",
       "      <td>81.604873</td>\n",
       "      <td>7.628473</td>\n",
       "      <td>262.717340</td>\n",
       "      <td>rice</td>\n",
       "    </tr>\n",
       "  </tbody>\n",
       "</table>\n",
       "</div>"
      ],
      "text/plain": [
       "    N   P   K  temperature   humidity        ph    rainfall label\n",
       "0  90  42  43    20.879744  82.002744  6.502985  202.935536  rice\n",
       "1  85  58  41    21.770462  80.319644  7.038096  226.655537  rice\n",
       "2  60  55  44    23.004459  82.320763  7.840207  263.964248  rice\n",
       "3  74  35  40    26.491096  80.158363  6.980401  242.864034  rice\n",
       "4  78  42  42    20.130175  81.604873  7.628473  262.717340  rice"
      ]
     },
     "execution_count": 26,
     "metadata": {},
     "output_type": "execute_result"
    }
   ],
   "source": [
    "cropData.head()"
   ]
  },
  {
   "cell_type": "code",
   "execution_count": 28,
   "id": "55631fd0-d425-40d9-9d48-036eade7d538",
   "metadata": {},
   "outputs": [],
   "source": [
    "x=cropData.iloc[:,:-1]\n",
    "y=cropData.iloc[:,-1]"
   ]
  },
  {
   "cell_type": "code",
   "execution_count": 30,
   "id": "0d651c31-9779-482d-bb62-8009548de2af",
   "metadata": {},
   "outputs": [
    {
     "data": {
      "text/html": [
       "<div>\n",
       "<style scoped>\n",
       "    .dataframe tbody tr th:only-of-type {\n",
       "        vertical-align: middle;\n",
       "    }\n",
       "\n",
       "    .dataframe tbody tr th {\n",
       "        vertical-align: top;\n",
       "    }\n",
       "\n",
       "    .dataframe thead th {\n",
       "        text-align: right;\n",
       "    }\n",
       "</style>\n",
       "<table border=\"1\" class=\"dataframe\">\n",
       "  <thead>\n",
       "    <tr style=\"text-align: right;\">\n",
       "      <th></th>\n",
       "      <th>N</th>\n",
       "      <th>P</th>\n",
       "      <th>K</th>\n",
       "      <th>temperature</th>\n",
       "      <th>humidity</th>\n",
       "      <th>ph</th>\n",
       "      <th>rainfall</th>\n",
       "    </tr>\n",
       "  </thead>\n",
       "  <tbody>\n",
       "    <tr>\n",
       "      <th>0</th>\n",
       "      <td>90</td>\n",
       "      <td>42</td>\n",
       "      <td>43</td>\n",
       "      <td>20.879744</td>\n",
       "      <td>82.002744</td>\n",
       "      <td>6.502985</td>\n",
       "      <td>202.935536</td>\n",
       "    </tr>\n",
       "    <tr>\n",
       "      <th>1</th>\n",
       "      <td>85</td>\n",
       "      <td>58</td>\n",
       "      <td>41</td>\n",
       "      <td>21.770462</td>\n",
       "      <td>80.319644</td>\n",
       "      <td>7.038096</td>\n",
       "      <td>226.655537</td>\n",
       "    </tr>\n",
       "    <tr>\n",
       "      <th>2</th>\n",
       "      <td>60</td>\n",
       "      <td>55</td>\n",
       "      <td>44</td>\n",
       "      <td>23.004459</td>\n",
       "      <td>82.320763</td>\n",
       "      <td>7.840207</td>\n",
       "      <td>263.964248</td>\n",
       "    </tr>\n",
       "    <tr>\n",
       "      <th>3</th>\n",
       "      <td>74</td>\n",
       "      <td>35</td>\n",
       "      <td>40</td>\n",
       "      <td>26.491096</td>\n",
       "      <td>80.158363</td>\n",
       "      <td>6.980401</td>\n",
       "      <td>242.864034</td>\n",
       "    </tr>\n",
       "    <tr>\n",
       "      <th>4</th>\n",
       "      <td>78</td>\n",
       "      <td>42</td>\n",
       "      <td>42</td>\n",
       "      <td>20.130175</td>\n",
       "      <td>81.604873</td>\n",
       "      <td>7.628473</td>\n",
       "      <td>262.717340</td>\n",
       "    </tr>\n",
       "    <tr>\n",
       "      <th>...</th>\n",
       "      <td>...</td>\n",
       "      <td>...</td>\n",
       "      <td>...</td>\n",
       "      <td>...</td>\n",
       "      <td>...</td>\n",
       "      <td>...</td>\n",
       "      <td>...</td>\n",
       "    </tr>\n",
       "    <tr>\n",
       "      <th>2195</th>\n",
       "      <td>107</td>\n",
       "      <td>34</td>\n",
       "      <td>32</td>\n",
       "      <td>26.774637</td>\n",
       "      <td>66.413269</td>\n",
       "      <td>6.780064</td>\n",
       "      <td>177.774507</td>\n",
       "    </tr>\n",
       "    <tr>\n",
       "      <th>2196</th>\n",
       "      <td>99</td>\n",
       "      <td>15</td>\n",
       "      <td>27</td>\n",
       "      <td>27.417112</td>\n",
       "      <td>56.636362</td>\n",
       "      <td>6.086922</td>\n",
       "      <td>127.924610</td>\n",
       "    </tr>\n",
       "    <tr>\n",
       "      <th>2197</th>\n",
       "      <td>118</td>\n",
       "      <td>33</td>\n",
       "      <td>30</td>\n",
       "      <td>24.131797</td>\n",
       "      <td>67.225123</td>\n",
       "      <td>6.362608</td>\n",
       "      <td>173.322839</td>\n",
       "    </tr>\n",
       "    <tr>\n",
       "      <th>2198</th>\n",
       "      <td>117</td>\n",
       "      <td>32</td>\n",
       "      <td>34</td>\n",
       "      <td>26.272418</td>\n",
       "      <td>52.127394</td>\n",
       "      <td>6.758793</td>\n",
       "      <td>127.175293</td>\n",
       "    </tr>\n",
       "    <tr>\n",
       "      <th>2199</th>\n",
       "      <td>104</td>\n",
       "      <td>18</td>\n",
       "      <td>30</td>\n",
       "      <td>23.603016</td>\n",
       "      <td>60.396475</td>\n",
       "      <td>6.779833</td>\n",
       "      <td>140.937041</td>\n",
       "    </tr>\n",
       "  </tbody>\n",
       "</table>\n",
       "<p>2200 rows × 7 columns</p>\n",
       "</div>"
      ],
      "text/plain": [
       "        N   P   K  temperature   humidity        ph    rainfall\n",
       "0      90  42  43    20.879744  82.002744  6.502985  202.935536\n",
       "1      85  58  41    21.770462  80.319644  7.038096  226.655537\n",
       "2      60  55  44    23.004459  82.320763  7.840207  263.964248\n",
       "3      74  35  40    26.491096  80.158363  6.980401  242.864034\n",
       "4      78  42  42    20.130175  81.604873  7.628473  262.717340\n",
       "...   ...  ..  ..          ...        ...       ...         ...\n",
       "2195  107  34  32    26.774637  66.413269  6.780064  177.774507\n",
       "2196   99  15  27    27.417112  56.636362  6.086922  127.924610\n",
       "2197  118  33  30    24.131797  67.225123  6.362608  173.322839\n",
       "2198  117  32  34    26.272418  52.127394  6.758793  127.175293\n",
       "2199  104  18  30    23.603016  60.396475  6.779833  140.937041\n",
       "\n",
       "[2200 rows x 7 columns]"
      ]
     },
     "execution_count": 30,
     "metadata": {},
     "output_type": "execute_result"
    }
   ],
   "source": [
    "x"
   ]
  },
  {
   "cell_type": "code",
   "execution_count": 32,
   "id": "5aed2d6b-b05f-4903-9193-3ca607b886be",
   "metadata": {},
   "outputs": [],
   "source": [
    "x_train,x_test,y_train,y_test=train_test_split(x,y,test_size=0.2,random_state=42)"
   ]
  },
  {
   "cell_type": "code",
   "execution_count": 42,
   "id": "f0316378-e067-4cc1-b810-ddb886192a3a",
   "metadata": {},
   "outputs": [
    {
     "data": {
      "text/plain": [
       "1451     muskmelon\n",
       "1334    watermelon\n",
       "1761        papaya\n",
       "1735        papaya\n",
       "1576         apple\n",
       "           ...    \n",
       "59            rice\n",
       "71            rice\n",
       "1908        cotton\n",
       "1958        cotton\n",
       "482     pigeonpeas\n",
       "Name: label, Length: 440, dtype: object"
      ]
     },
     "execution_count": 42,
     "metadata": {},
     "output_type": "execute_result"
    }
   ],
   "source": [
    "y_test"
   ]
  },
  {
   "cell_type": "code",
   "execution_count": 50,
   "id": "0547972d-7108-474d-87c9-6cadab4de086",
   "metadata": {},
   "outputs": [],
   "source": [
    "classifier = RandomForestClassifier(n_estimators=100, random_state=42)\n",
    "classifier.fit(x_train, y_train)\n",
    "y_pred = classifier.predict(x_test)"
   ]
  },
  {
   "cell_type": "code",
   "execution_count": 52,
   "id": "b2ff4e7b-9fc9-46a6-827d-a74ee43acfbb",
   "metadata": {},
   "outputs": [
    {
     "data": {
      "text/plain": [
       "array(['muskmelon', 'watermelon', 'papaya', 'papaya', 'apple', 'mango',\n",
       "       'apple', 'mothbeans', 'mungbean', 'lentil', 'blackgram', 'coconut',\n",
       "       'pomegranate', 'jute', 'coconut', 'pomegranate', 'apple', 'maize',\n",
       "       'papaya', 'muskmelon', 'coffee', 'papaya', 'orange', 'papaya',\n",
       "       'chickpea', 'jute', 'mungbean', 'orange', 'pigeonpeas', 'rice',\n",
       "       'pomegranate', 'mothbeans', 'jute', 'lentil', 'jute', 'blackgram',\n",
       "       'jute', 'chickpea', 'chickpea', 'kidneybeans', 'papaya', 'mango',\n",
       "       'blackgram', 'maize', 'mungbean', 'maize', 'pigeonpeas', 'coconut',\n",
       "       'muskmelon', 'maize', 'blackgram', 'coffee', 'grapes', 'mungbean',\n",
       "       'coffee', 'kidneybeans', 'cotton', 'apple', 'banana', 'blackgram',\n",
       "       'watermelon', 'coconut', 'lentil', 'orange', 'papaya',\n",
       "       'pigeonpeas', 'orange', 'rice', 'muskmelon', 'pigeonpeas',\n",
       "       'muskmelon', 'coconut', 'jute', 'banana', 'blackgram', 'papaya',\n",
       "       'banana', 'cotton', 'watermelon', 'orange', 'coffee', 'chickpea',\n",
       "       'rice', 'mothbeans', 'orange', 'mango', 'coffee', 'mothbeans',\n",
       "       'blackgram', 'pomegranate', 'maize', 'mothbeans', 'cotton',\n",
       "       'papaya', 'pigeonpeas', 'mothbeans', 'kidneybeans', 'coffee',\n",
       "       'blackgram', 'lentil', 'coconut', 'rice', 'orange', 'muskmelon',\n",
       "       'watermelon', 'kidneybeans', 'watermelon', 'banana', 'pigeonpeas',\n",
       "       'mothbeans', 'banana', 'jute', 'cotton', 'pomegranate',\n",
       "       'pigeonpeas', 'chickpea', 'maize', 'coconut', 'pomegranate',\n",
       "       'rice', 'pigeonpeas', 'grapes', 'blackgram', 'coconut', 'chickpea',\n",
       "       'blackgram', 'coconut', 'maize', 'banana', 'mothbeans', 'banana',\n",
       "       'kidneybeans', 'pomegranate', 'chickpea', 'coconut', 'orange',\n",
       "       'pigeonpeas', 'banana', 'banana', 'apple', 'kidneybeans',\n",
       "       'muskmelon', 'mungbean', 'mothbeans', 'coconut', 'maize', 'apple',\n",
       "       'coconut', 'kidneybeans', 'mothbeans', 'mungbean', 'lentil',\n",
       "       'watermelon', 'mungbean', 'pigeonpeas', 'pigeonpeas', 'pigeonpeas',\n",
       "       'kidneybeans', 'maize', 'jute', 'chickpea', 'apple', 'orange',\n",
       "       'cotton', 'rice', 'coconut', 'grapes', 'lentil', 'watermelon',\n",
       "       'grapes', 'grapes', 'blackgram', 'pomegranate', 'chickpea',\n",
       "       'coconut', 'maize', 'lentil', 'grapes', 'watermelon', 'jute',\n",
       "       'coffee', 'coffee', 'kidneybeans', 'jute', 'mothbeans',\n",
       "       'kidneybeans', 'banana', 'kidneybeans', 'coconut', 'papaya',\n",
       "       'papaya', 'mungbean', 'mango', 'pomegranate', 'watermelon',\n",
       "       'kidneybeans', 'maize', 'apple', 'blackgram', 'chickpea', 'grapes',\n",
       "       'grapes', 'banana', 'cotton', 'rice', 'pomegranate', 'mungbean',\n",
       "       'banana', 'jute', 'mungbean', 'maize', 'chickpea', 'chickpea',\n",
       "       'chickpea', 'apple', 'rice', 'kidneybeans', 'papaya', 'coffee',\n",
       "       'blackgram', 'kidneybeans', 'mango', 'mango', 'coconut', 'papaya',\n",
       "       'apple', 'chickpea', 'pomegranate', 'chickpea', 'muskmelon',\n",
       "       'apple', 'muskmelon', 'muskmelon', 'mango', 'mango', 'cotton',\n",
       "       'coconut', 'pomegranate', 'rice', 'muskmelon', 'coffee', 'papaya',\n",
       "       'mothbeans', 'maize', 'mango', 'muskmelon', 'pigeonpeas',\n",
       "       'mungbean', 'coffee', 'grapes', 'coconut', 'cotton', 'pigeonpeas',\n",
       "       'rice', 'apple', 'pomegranate', 'coffee', 'chickpea', 'cotton',\n",
       "       'jute', 'mango', 'banana', 'papaya', 'apple', 'chickpea', 'rice',\n",
       "       'pigeonpeas', 'mothbeans', 'mungbean', 'jute', 'pomegranate',\n",
       "       'grapes', 'mothbeans', 'jute', 'maize', 'coconut', 'maize',\n",
       "       'chickpea', 'banana', 'jute', 'coconut', 'jute', 'mango',\n",
       "       'muskmelon', 'apple', 'banana', 'pigeonpeas', 'blackgram',\n",
       "       'orange', 'chickpea', 'watermelon', 'banana', 'apple', 'chickpea',\n",
       "       'coffee', 'pigeonpeas', 'orange', 'apple', 'coconut', 'papaya',\n",
       "       'watermelon', 'mothbeans', 'papaya', 'chickpea', 'pomegranate',\n",
       "       'chickpea', 'papaya', 'lentil', 'apple', 'pomegranate', 'chickpea',\n",
       "       'mango', 'chickpea', 'pomegranate', 'watermelon', 'kidneybeans',\n",
       "       'mungbean', 'muskmelon', 'watermelon', 'kidneybeans', 'muskmelon',\n",
       "       'mango', 'jute', 'blackgram', 'chickpea', 'banana', 'blackgram',\n",
       "       'pigeonpeas', 'papaya', 'pigeonpeas', 'mungbean', 'coconut',\n",
       "       'cotton', 'grapes', 'apple', 'lentil', 'banana', 'jute', 'apple',\n",
       "       'pomegranate', 'apple', 'mungbean', 'muskmelon', 'coffee',\n",
       "       'coffee', 'pigeonpeas', 'jute', 'kidneybeans', 'banana', 'maize',\n",
       "       'jute', 'maize', 'pigeonpeas', 'mango', 'kidneybeans',\n",
       "       'pomegranate', 'watermelon', 'blackgram', 'maize', 'rice',\n",
       "       'mothbeans', 'kidneybeans', 'mango', 'cotton', 'papaya',\n",
       "       'mothbeans', 'cotton', 'mungbean', 'orange', 'jute', 'blackgram',\n",
       "       'mungbean', 'coffee', 'banana', 'pigeonpeas', 'papaya', 'apple',\n",
       "       'pomegranate', 'maize', 'mango', 'coconut', 'apple', 'lentil',\n",
       "       'jute', 'mothbeans', 'lentil', 'coconut', 'blackgram', 'jute',\n",
       "       'mungbean', 'cotton', 'watermelon', 'apple', 'grapes', 'coconut',\n",
       "       'grapes', 'watermelon', 'rice', 'mango', 'mango', 'coffee',\n",
       "       'pomegranate', 'banana', 'grapes', 'jute', 'orange', 'cotton',\n",
       "       'mango', 'papaya', 'muskmelon', 'mothbeans', 'jute', 'chickpea',\n",
       "       'mothbeans', 'pomegranate', 'watermelon', 'mothbeans', 'cotton',\n",
       "       'papaya', 'watermelon', 'lentil', 'rice', 'coconut', 'mothbeans',\n",
       "       'mothbeans', 'maize', 'rice', 'maize', 'coconut', 'orange',\n",
       "       'pomegranate', 'kidneybeans', 'watermelon', 'mungbean',\n",
       "       'blackgram', 'rice', 'rice', 'cotton', 'cotton', 'pigeonpeas'],\n",
       "      dtype=object)"
      ]
     },
     "execution_count": 52,
     "metadata": {},
     "output_type": "execute_result"
    }
   ],
   "source": [
    "y_pred"
   ]
  },
  {
   "cell_type": "code",
   "execution_count": 56,
   "id": "97763cd1-7a2f-403a-9440-bb8c91bf9e43",
   "metadata": {},
   "outputs": [],
   "source": [
    "from sklearn.metrics import accuracy_score"
   ]
  },
  {
   "cell_type": "code",
   "execution_count": 60,
   "id": "b35cd543-efe9-4128-82f7-e210248d5349",
   "metadata": {},
   "outputs": [
    {
     "data": {
      "text/plain": [
       "0.9931818181818182"
      ]
     },
     "execution_count": 60,
     "metadata": {},
     "output_type": "execute_result"
    }
   ],
   "source": [
    "accuracy=accuracy_score(y_pred,y_test)\n",
    "accuracy"
   ]
  },
  {
   "cell_type": "code",
   "execution_count": 76,
   "id": "7505eeef-3af8-465a-bcb4-e202eaa50524",
   "metadata": {},
   "outputs": [
    {
     "name": "stdin",
     "output_type": "stream",
     "text": [
      "Enter N:  12\n",
      "Enter P:  12\n",
      "Enter K:  12\n",
      "Enter temperature:  12\n",
      "Enter humidity:  21\n",
      "Enter ph:  21\n",
      "Enter rainfall:  21\n"
     ]
    },
    {
     "name": "stdout",
     "output_type": "stream",
     "text": [
      "Predicted Crop: ['muskmelon']\n"
     ]
    }
   ],
   "source": [
    "import numpy as np\n",
    "import pandas as pd\n",
    "\n",
    "feature_names = [\"N\", \"P\", \"K\", \"temperature\", \"humidity\", \"ph\", \"rainfall\"]\n",
    "\n",
    "inputs = [float(input(f\"Enter {feature}: \")) for feature in feature_names]\n",
    "input_df = pd.DataFrame([inputs], columns=feature_names)\n",
    "predicted_crop = classifier.predict(input_df)\n",
    "\n",
    "print(\"Predicted Crop:\", predicted_crop[0]) \n"
   ]
  },
  {
   "cell_type": "code",
   "execution_count": null,
   "id": "8636ba35-9223-49d2-9ade-acb84192d125",
   "metadata": {},
   "outputs": [],
   "source": []
  }
 ],
 "metadata": {
  "kernelspec": {
   "display_name": "Python [conda env:base] *",
   "language": "python",
   "name": "conda-base-py"
  },
  "language_info": {
   "codemirror_mode": {
    "name": "ipython",
    "version": 3
   },
   "file_extension": ".py",
   "mimetype": "text/x-python",
   "name": "python",
   "nbconvert_exporter": "python",
   "pygments_lexer": "ipython3",
   "version": "3.12.7"
  }
 },
 "nbformat": 4,
 "nbformat_minor": 5
}
